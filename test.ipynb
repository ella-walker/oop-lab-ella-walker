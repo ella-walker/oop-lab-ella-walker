{
 "cells": [
  {
   "cell_type": "code",
   "execution_count": 2,
   "id": "c6b6acb1",
   "metadata": {},
   "outputs": [
    {
     "data": {
      "text/html": [
       "<div>\n",
       "<style scoped>\n",
       "    .dataframe tbody tr th:only-of-type {\n",
       "        vertical-align: middle;\n",
       "    }\n",
       "\n",
       "    .dataframe tbody tr th {\n",
       "        vertical-align: top;\n",
       "    }\n",
       "\n",
       "    .dataframe thead th {\n",
       "        text-align: right;\n",
       "    }\n",
       "</style>\n",
       "<table border=\"1\" class=\"dataframe\">\n",
       "  <thead>\n",
       "    <tr style=\"text-align: right;\">\n",
       "      <th></th>\n",
       "      <th>book_id</th>\n",
       "      <th>title</th>\n",
       "      <th>author</th>\n",
       "      <th>genre</th>\n",
       "      <th>pages</th>\n",
       "      <th>published_year</th>\n",
       "    </tr>\n",
       "  </thead>\n",
       "  <tbody>\n",
       "    <tr>\n",
       "      <th>0</th>\n",
       "      <td>0</td>\n",
       "      <td>The Hunger Games</td>\n",
       "      <td>Suzanne Collins</td>\n",
       "      <td>Young Adult</td>\n",
       "      <td>374</td>\n",
       "      <td>2008</td>\n",
       "    </tr>\n",
       "    <tr>\n",
       "      <th>1</th>\n",
       "      <td>1</td>\n",
       "      <td>Harry Potter and the Order of the Phoenix</td>\n",
       "      <td>J.K. Rowling</td>\n",
       "      <td>Fantasy</td>\n",
       "      <td>870</td>\n",
       "      <td>2003</td>\n",
       "    </tr>\n",
       "    <tr>\n",
       "      <th>2</th>\n",
       "      <td>2</td>\n",
       "      <td>Twilight</td>\n",
       "      <td>Stephenie Meyer</td>\n",
       "      <td>Young Adult</td>\n",
       "      <td>501</td>\n",
       "      <td>2005</td>\n",
       "    </tr>\n",
       "    <tr>\n",
       "      <th>3</th>\n",
       "      <td>3</td>\n",
       "      <td>Animal Farm</td>\n",
       "      <td>George Orwell</td>\n",
       "      <td>Classics</td>\n",
       "      <td>141</td>\n",
       "      <td>1945</td>\n",
       "    </tr>\n",
       "    <tr>\n",
       "      <th>4</th>\n",
       "      <td>4</td>\n",
       "      <td>J.R.R. Tolkien 4-Book Boxed Set: The Hobbit an...</td>\n",
       "      <td>J.R.R. Tolkien</td>\n",
       "      <td>Fantasy</td>\n",
       "      <td>1728</td>\n",
       "      <td>1955</td>\n",
       "    </tr>\n",
       "  </tbody>\n",
       "</table>\n",
       "</div>"
      ],
      "text/plain": [
       "   book_id                                              title  \\\n",
       "0        0                                   The Hunger Games   \n",
       "1        1          Harry Potter and the Order of the Phoenix   \n",
       "2        2                                           Twilight   \n",
       "3        3                                        Animal Farm   \n",
       "4        4  J.R.R. Tolkien 4-Book Boxed Set: The Hobbit an...   \n",
       "\n",
       "            author        genre pages  published_year  \n",
       "0  Suzanne Collins  Young Adult   374            2008  \n",
       "1     J.K. Rowling      Fantasy   870            2003  \n",
       "2  Stephenie Meyer  Young Adult   501            2005  \n",
       "3    George Orwell     Classics   141            1945  \n",
       "4   J.R.R. Tolkien      Fantasy  1728            1955  "
      ]
     },
     "execution_count": 2,
     "metadata": {},
     "output_type": "execute_result"
    }
   ],
   "source": [
    "## Import libraries\n",
    "import pandas as pd\n",
    "from digital_library import Book, Library\n",
    "\n",
    "## Read in data (this code reads data directly from GitHub)\n",
    "url = 'https://raw.githubusercontent.com/Stat386-Fall-2025/Data/refs/heads/master/library_books.csv'\n",
    "data = pd.read_csv(url)\n",
    "\n",
    "data.head()"
   ]
  },
  {
   "cell_type": "code",
   "execution_count": 3,
   "id": "246b2ebb",
   "metadata": {},
   "outputs": [
    {
     "name": "stdout",
     "output_type": "stream",
     "text": [
      "15\n",
      "False\n",
      "Book ID 100: NewBook by NewAuthor has 270 pages. It was first published in 2010 and belongs to the Mystery genre.\n"
     ]
    }
   ],
   "source": [
    "book = Book('100', 'NewBook', 'NewAuthor', 'Mystery', 270, 2010)\n",
    "print(book.get_age())\n",
    "print(book.is_long())\n",
    "print(book.summary()) "
   ]
  },
  {
   "cell_type": "code",
   "execution_count": 6,
   "id": "a40339c1",
   "metadata": {},
   "outputs": [
    {
     "name": "stdout",
     "output_type": "stream",
     "text": [
      "None\n",
      "Error: book_id 101 is not in the library.\n",
      "No books found by author AnotherAuthor.\n",
      "genre\n",
      "Fiction               235\n",
      "Fantasy               211\n",
      "Young Adult           103\n",
      "Romance                90\n",
      "Nonfiction             88\n",
      "Historical Fiction     61\n",
      "Science Fiction        57\n",
      "Mystery                42\n",
      "History                36\n",
      "Classics               30\n",
      "Graphic Novels         30\n",
      "Paranormal Romance     23\n",
      "Science                23\n",
      "Poetry                 19\n",
      "Paranormal             17\n",
      "Psychology             16\n",
      "Short Stories          16\n",
      "Biography              15\n",
      "Comics                 13\n",
      "Picture Books          12\n",
      "Thriller               12\n",
      "Childrens              12\n",
      "Urban Fantasy          11\n",
      "Memoir                 11\n",
      "New Adult              11\n",
      "M M Romance            10\n",
      "Horror                 10\n",
      "Self Help              10\n",
      "Christian              10\n",
      "Urban                   9\n",
      "Star Wars               8\n",
      "Christian Fiction       8\n",
      "Vampires                8\n",
      "Philosophy              7\n",
      "Spirituality            7\n",
      "Music                   6\n",
      "Business                6\n",
      "Steampunk               6\n",
      "Humor                   6\n",
      "Religion                6\n",
      "Name: count, dtype: int64\n",
      "No matching book in the library\n"
     ]
    }
   ],
   "source": [
    "library = Library(data)\n",
    "book = Book('100', 'NewBook', 'NewAuthor', 'Mystery', 270, 2010)\n",
    "print(library.add_book(book))\n",
    "print(library.remove_book('101'))\n",
    "print(library.get_books_by_author('AnotherAuthor'))\n",
    "print(library.get_genre_count())\n",
    "print(library.get_book_summary('101'))\n"
   ]
  }
 ],
 "metadata": {
  "kernelspec": {
   "display_name": "oop-lab-ella-walker",
   "language": "python",
   "name": "python3"
  },
  "language_info": {
   "codemirror_mode": {
    "name": "ipython",
    "version": 3
   },
   "file_extension": ".py",
   "mimetype": "text/x-python",
   "name": "python",
   "nbconvert_exporter": "python",
   "pygments_lexer": "ipython3",
   "version": "3.13.7"
  }
 },
 "nbformat": 4,
 "nbformat_minor": 5
}
